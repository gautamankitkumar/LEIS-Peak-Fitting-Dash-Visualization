{
 "cells": [
  {
   "cell_type": "markdown",
   "metadata": {},
   "source": [
    "# Final-Project\n",
    "## Ankit Kumar Gautam \n",
    "## <u> Topic- LEIS Peak Fitting</u>"
   ]
  },
  {
   "cell_type": "markdown",
   "metadata": {},
   "source": [
    "# <div align=\"center\">Introduction</div>"
   ]
  },
  {
   "cell_type": "markdown",
   "metadata": {},
   "source": [
    "## Motivation\n",
    "\n",
    "A researcher working in Prof. Gellman's group is working on high-throughput experiments. Currently for data analysis he uses commercial software for LEIS spectrum peak fitting which is slow and hinders his research efforts. Also, the large amount of data generated from such experiments makes data organisation a difficult task. A need for a faster analysis is present. An added convenience for his lab colleagues would be having the possibility of viewing generated graphs/results later without re-running the entire code. \n",
    "\n",
    "\n",
    "\n",
    "## LEIS experiments\n",
    "LEIS experiments aim to determine surface composition by measuring the energy from ions that are scattered from the surface. For heterogeneous catalysis, surface composition identification becomes an essential because reactions take place on surfaces and surface characterization is important for design of industrial catalysts. [Ref 1](https://doi.org/10.1016/j.cattod.2008.10.012)\n",
    "\n",
    "Below attached is a sample data export available by plotting the data.\n",
    "\n",
    "<img src=\"https://docs.google.com/uc?export=download&id=1v8XyIg573W5dAOgozVB33b1T66_eBGQ8\" alt=\"LEIS Spectrum\"\n",
    "\ttitle=\"A Typical graph from LEIS spectrum\" width=\"400\" />\n",
    "    \n",
    "\n",
    "Thus the aim of this project is to be able to pick a point within the 13x13 grid and get its data along with fitted peak and parameter"
   ]
  },
  {
   "cell_type": "markdown",
   "metadata": {},
   "source": [
    "# <div align=\"center\">Methods</div>"
   ]
  },
  {
   "cell_type": "markdown",
   "metadata": {},
   "source": [
    "## Notebook Outline\n",
    "The above task is completed in parts. Narrative text around the code cells are present to make the notebook more descriptive. The overall structure of this notebook is described as follows:\n",
    "\n",
    "1. Read excel file containing data\n",
    "2. Fit the data and write fitted data to a text file to avoid multiple fitting\n",
    "3. Plot the scatter grid point and subsequent plots\n",
    "\n",
    "\n",
    "The code starts with importing relevant libraries."
   ]
  },
  {
   "cell_type": "code",
   "execution_count": 1,
   "metadata": {},
   "outputs": [],
   "source": [
    "import numpy as np\n",
    "import pandas as pd\n",
    "import matplotlib\n",
    "import matplotlib.pyplot as plt\n",
    "%matplotlib notebook\n",
    "\n",
    "import ujson\n",
    "from scipy.signal import find_peaks\n",
    "\n",
    "# Used to read excel file\n",
    "from openpyxl import load_workbook\n",
    "\n",
    "# Used for non-linear fitting\n",
    "from lmfit import Model\n",
    "\n",
    "# Used for interactive graph\n",
    "import plotly.graph_objects as go\n",
    "from ipywidgets import widgets"
   ]
  },
  {
   "cell_type": "markdown",
   "metadata": {},
   "source": [
    "## Reading Data\n",
    "### Data structure\n",
    "\n",
    "The data comes from 13x13 grid point sources, each giving out 481 KE energies. The grid points are conveniently labeled as 13 X points for each 13 Y points. The following screenshot aims to give a small glimpse of the data file."
   ]
  },
  {
   "cell_type": "markdown",
   "metadata": {},
   "source": [
    "<img src=\"http://drive.google.com/uc?export=view&id=1Cm5kLtYoIY5HCH4eNIKI1kgtyTwafpYJ\" alt=\"Excel file Sample\" width=\"600\"/>"
   ]
  },
  {
   "cell_type": "markdown",
   "metadata": {},
   "source": [
    "You may download the data files one of the following links \n",
    "\n",
    "- [500 K LEIS 1st round 27.5.xlsx](https://cmu.box.com/s/4j8b6q830qtpdjb3bbxlo214cehsje9r)\n",
    "- [500 K LEIS 2nd round 27.5.xlsx](https://cmu.box.com/s/wrrrfivpafhgnxw3d2jg7qtm3cx1abna)\n",
    "- [400 K LEIS 27.5.xlsx](https://cmu.box.com/s/2lre0lw3k3ucn0emuxaektrzfljak69n)\n",
    "\n",
    "Run the following code to check if you do have at least one of the .xlsx file in place"
   ]
  },
  {
   "cell_type": "code",
   "execution_count": 2,
   "metadata": {},
   "outputs": [
    {
     "name": "stdout",
     "output_type": "stream",
     "text": [
      "400 K LEIS 27.5.xlsx\n",
      "500 K LEIS 1st round 27.5.xlsx\n",
      "500 K LEIS 2nd round 27.5.xlsx\n",
      "600 K LEIS 1st round 27.5.xlsx\n",
      "600 K LEIS 2nd round 27.5.xlsx\n",
      "continuous LEIS on 2nd pt Cu 400 K Ankit.xlsx\n",
      "continuous LEIS on 2nd pt Cu 400K-600K ramp.xlsx\n"
     ]
    }
   ],
   "source": [
    "! ls *.xlsx"
   ]
  },
  {
   "cell_type": "markdown",
   "metadata": {},
   "source": [
    "The following cell declares the name of the file used for current analysis. Note this is the only input required from user."
   ]
  },
  {
   "cell_type": "code",
   "execution_count": 3,
   "metadata": {},
   "outputs": [],
   "source": [
    "excel_file = '500 K LEIS 1st round 27.5.xlsx'"
   ]
  },
  {
   "cell_type": "markdown",
   "metadata": {},
   "source": [
    "### `pandas` to read excel file"
   ]
  },
  {
   "cell_type": "code",
   "execution_count": 4,
   "metadata": {},
   "outputs": [
    {
     "data": {
      "text/plain": [
       "((481, 1), (481, 169))"
      ]
     },
     "execution_count": 4,
     "metadata": {},
     "output_type": "execute_result"
    }
   ],
   "source": [
    "def read_data(filename):    \n",
    "    \"\"\" \n",
    "    This function reads the above specified file and returns two numpy array\n",
    "    which contain the x-data and y-data \n",
    "\n",
    "    filename: string, Excel file to be read\n",
    "\n",
    "    \"\"\"\n",
    "    \n",
    "    # Iterate over all X-values. Y-values are stored in colummns of particular worksheet\n",
    "    for x in range(0,13):\n",
    "\n",
    "        wb = load_workbook(filename)\n",
    "        ws = wb[str(x)]\n",
    "\n",
    "        # This position of metadata doesn't change its relative position from sheet-to-sheet\n",
    "        n_energy = ws['D2'].value\n",
    "        n_iter = ws['D5'].value\n",
    "        Rows_to_Skip = 15\n",
    "\n",
    "        # Rename columns\n",
    "        column_names = [str(x) for x in range(0,n_iter)]\n",
    "        column_names.insert(0,'nan')\n",
    "        column_names.insert(0,'KE')\n",
    "\n",
    "        # Read data using pandas\n",
    "        df_data = pd.read_excel(io = filename,\n",
    "                           sheet_name=x,\n",
    "                           skiprows = Rows_to_Skip,\n",
    "                           names = column_names,\n",
    "                           index_col='KE'\n",
    "                          )\n",
    "        # Drop the second column as it is always supposed to be false\n",
    "        df_data.drop(columns=df_data.columns[0],inplace=True)\n",
    "        \n",
    "        # Get x_data as the index \n",
    "        x_array = np.array(df_data.index).reshape(len(df_data.index),1)\n",
    "        \n",
    "        # If we encounter first sheet\n",
    "        if x==0:\n",
    "            y = df_data.to_numpy()\n",
    "            \n",
    "        # Stack with the cummulative y built till now\n",
    "        else:\n",
    "            y = np.hstack((y, df_data.to_numpy()))\n",
    "            \n",
    "    # Ideally x_array should be (481, 1), and y should be (481, 169)\n",
    "    return x_array, y\n",
    "\n",
    "\n",
    "# These variables are used subsequently in the code\n",
    "x_data,y_data = read_data(excel_file)\n",
    "x_data.shape,y_data.shape"
   ]
  },
  {
   "cell_type": "markdown",
   "metadata": {},
   "source": [
    "After running the above code cell we should have read `x_data` which is KE (eV) and `y_data` which is Counts (1/s). Having the x's and y's we can proceed to fitting."
   ]
  },
  {
   "cell_type": "markdown",
   "metadata": {},
   "source": [
    "## Peak Fitting\n",
    "\n",
    "With the data prepared, it's time for fitting peaks on the data. The peaks spectra are conveniently fitted by the following functions\n",
    "\n",
    "\\begin{align*}\n",
    "Gaussian &= \\frac{A}{\\sqrt{2}\\pi \\sigma} exp\\Big({-\\frac{(x-\\mu)^2}{2\\sigma^2}}\\Big) \\\\\n",
    "Lorentzian & = \\frac{A}{\\pi} \\frac{\\Gamma}{(x-x_0)^2 + (\\Gamma /2 )^2}\\\\\n",
    "\\end{align*}\n",
    "\n",
    "Or Voigt, which is essentially a combination of these two. \n",
    "\n",
    "Here $A$ represent amplitude of the spectrum, $\\sigma$ or $\\Gamma$ capture width, $x_0$ or $\\mu$ represent peak position. The ultimate aim is to get out $\\mu$ or $x_0$ from the data for curves which represent the data accurately.\n",
    "\n",
    "For the purpose of peak fitting here, sum of Gaussian functions are used as defined below. The data consists combinations of a single, double or triple peaks in the data. Thus all three combinations are declared."
   ]
  },
  {
   "cell_type": "code",
   "execution_count": 5,
   "metadata": {},
   "outputs": [],
   "source": [
    "def gaussian(x, amp, cen, width):\n",
    "    \"\"\"1-d gaussian: gaussian(x, amp, cen, width)\n",
    "    x: independent variable\n",
    "    amp: amplitude/height of the curve\n",
    "    cen: mean or peak position\n",
    "    width: standard deviation/ spread of the curve\n",
    "    \"\"\"\n",
    "    return (amp / (np.sqrt(2*np.pi) * width)) * np.exp(-(x-cen)**2 / (2*width**2))\n",
    "\n",
    "def gauss2(x,a1,c1,w1,a2,c2,w2):\n",
    "    \"\"\" For fitting two gaussian peaks \"\"\"\n",
    "    return gaussian(x,a1,c1,w1)+gaussian(x,a2,c2,w2)\n",
    "\n",
    "def gauss3(x,a1,c1,w1,a2,c2,w2,a3,c3,w3):\n",
    "    \"\"\" For fitting three gaussian peaks \"\"\"\n",
    "    return gaussian(x,a1,c1,w1)+gaussian(x,a2,c2,w2)+gaussian(x,a3,c3,w3)"
   ]
  },
  {
   "cell_type": "markdown",
   "metadata": {},
   "source": [
    "A single spectra is plotted below. We see that among all the data with us, two individual data series is built by sum of three peaks. Those peaks are roughly constant across the dataset."
   ]
  },
  {
   "cell_type": "code",
   "execution_count": 6,
   "metadata": {},
   "outputs": [
    {
     "data": {
      "image/png": "[encoded data removed]",
      "text/plain": [
       "<Figure size 432x288 with 1 Axes>"
      ]
     },
     "metadata": {
      "needs_background": "light"
     },
     "output_type": "display_data"
    }
   ],
   "source": [
    "%matplotlib inline\n",
    "plt.plot(x_data[:,0],y_data[:,70],'b.',label='Series1')\n",
    "plt.plot(x_data[:,0],y_data[:,72],'r.',label='Series2')\n",
    "plt.axvline(815,c='k')\n",
    "plt.axvline(880,c='k')\n",
    "plt.axvline(923,c='k')\n",
    "plt.xticks([815, 880, 923], ['Peak1', 'Peak2', 'Peak3'])\n",
    "plt.xlabel('KE (eV)')\n",
    "plt.ylabel('Counts/s')\n",
    "plt.legend()\n",
    "plt.title('Example dataset to illustrate three peaks')\n",
    "plt.savefig('two_spectra.png',dpi=300)"
   ]
  },
  {
   "cell_type": "markdown",
   "metadata": {},
   "source": [
    "As marked in the above graphs, we need to identify if these three peaks are present. For such a non-linear fitting, we need to provide good estimates of $A$, $\\mu$ and $\\sigma$ to able to fit correctly. Estimates of amplitude can be kept same but the peaks positions are guessed by calling `scipy.signal_find_peaks`."
   ]
  },
  {
   "cell_type": "markdown",
   "metadata": {},
   "source": [
    "Briefly, `scipy.signal.find_peaks` is used to find the number of peaks and the peaks position. That many Gaussian functions are used to fit that particular `y` data. Initial estimates to the fitting profiles are provided by reading the source of that peak. After the fitting is done, the following items are prepared in a dictionary:\n",
    "\n",
    "- Number of peaks\n",
    "- `y` data\n",
    "- `y1` (for 1 peak)\n",
    "- `y1` and `y2` for two peaks\n",
    "- `y1`, `y2` and `y3` for three peaks\n",
    "- Fitted means of the peaks\n",
    "\n",
    "The above data is written to a `json` file for faster reading during plotting. \n",
    "\n",
    "Following function reads x_data, y_data to find peaks and fit the data. It is only meant to be executed once for each corresponding excel file. User should change the name of the `json` file generated for each excel file."
   ]
  },
  {
   "cell_type": "code",
   "execution_count": null,
   "metadata": {},
   "outputs": [],
   "source": [
    "# No need to re-run this again if data.json is already built\n",
    "def fit_and_write_json():\n",
    "    \"\"\"\n",
    "    This function reads upon the excel file data and writes json file with fitted values\n",
    "    \"\"\"\n",
    "    \n",
    "    # Create a dictionary to store peaks for now\n",
    "    data = {}\n",
    "    \n",
    "    height = []\n",
    "    for i in range(169):\n",
    "        peaks,_ = find_peaks(y_data[:,i],height=5000,distance=50)\n",
    "        data[i] = np.array(peaks,dtype=float)\n",
    "    \n",
    "    # Currently the dictionary should look like {'1': 1, '2': 2, '3':2 ...} and so on\n",
    "    peak_data = data\n",
    "    \n",
    "    # Iterating over all 13 X and 13 Ys\n",
    "    \n",
    "    for i in range(169):\n",
    "        \n",
    "        # If scipy.signal.find_peaks finds only one peak\n",
    "        if len(peak_data[i]) == 1:\n",
    "            gmodel = Model(gaussian)\n",
    "            peak = x_data[int(peak_data[i][0])][0]\n",
    "            \n",
    "            # Initialize appropriate singal from the peak data\n",
    "            # center \"c1\" comes from the peak data itself\n",
    "            c1 = peak\n",
    "            \n",
    "            if peak <= 850:\n",
    "                a1 = 10000\n",
    "                w1 = 20\n",
    "            elif peak <= 900:\n",
    "                a1 = 40000\n",
    "                w1 = 15\n",
    "            else:\n",
    "                a1 = 80000\n",
    "                w1 = 10\n",
    "                \n",
    "            # Fit using these initial estimates\n",
    "            result = gmodel.fit(y_data[:,i], x=x_data[:,0],amp=a1,cen=c1,width=w1)\n",
    "            y1 = gaussian(x_data,result.best_values['amp'],result.best_values['cen'],result.best_values['width'])\n",
    "            new_dict = {'peak':1,'y':y_data[:,i].tolist(),'fit':result.best_fit.tolist(),\n",
    "                        'y1':y1.tolist(),'mu1':result.best_values['cen']}\n",
    "            \n",
    "        elif len(peak_data[i]) == 2:\n",
    "            # For two peaks\n",
    "            peak1 = x_data[int(peak_data[i][0])][0]\n",
    "            peak2 = x_data[int(peak_data[i][1])][0]\n",
    "            \n",
    "            c1 = peak1\n",
    "            c2 = peak2\n",
    "            if peak1<= 850:\n",
    "                a1 = 10000\n",
    "                w1 = 20\n",
    "            elif peak1 <= 900:\n",
    "                a1 = 40000\n",
    "                w1 = 15\n",
    "            else:\n",
    "                a1 = 80000\n",
    "                w1 = 10\n",
    "                \n",
    "            if peak2<= 850:\n",
    "                a2 = 10000\n",
    "                w2 = 20\n",
    "            elif peak2 <= 900:\n",
    "                a2 = 40000\n",
    "                w2 = 15\n",
    "            else:\n",
    "                a2 = 80000\n",
    "                w2 = 10\n",
    "            # Fit two peaks\n",
    "            gmodel = Model(gauss2)\n",
    "            result = gmodel.fit(y_data[:,i], x=x_data[:,0], a1 = a1,c1=c1,w1=w1,a2=a2,c2=c2,w2=w2)\n",
    "            y1 = gaussian(x_data[:,0],result.best_values['a1'],result.best_values['c1'],result.best_values['w1'])\n",
    "            y2 = gaussian(x_data[:,0],result.best_values['a2'],result.best_values['c2'],result.best_values['w2'])\n",
    "            new_dict = {'peak':2,'y':y_data[:,i].tolist(),'fit':result.best_fit.tolist(),\n",
    "                        'y1':y1.tolist(),'y2':y2.tolist(),\n",
    "                        'mu1':result.best_values['c1'],'mu2':result.best_values['c2']}\n",
    "            \n",
    "        else:\n",
    "            peak1 = x_data[int(peak_data[i][0])][0]\n",
    "            peak2 = x_data[int(peak_data[i][1])][0]\n",
    "            peak3 = x_data[int(peak_data[i][2])][0]\n",
    "            \n",
    "            c1 = peak1\n",
    "            c2 = peak2\n",
    "            c3 = peak3\n",
    "            \n",
    "            if peak1<= 850:\n",
    "                a1 = 25000\n",
    "                w1 = 20\n",
    "            elif peak1 <= 900:\n",
    "                a1 = 25000\n",
    "                w1 = 15\n",
    "            else:\n",
    "                a1 = 25000\n",
    "                w1 = 10\n",
    "                \n",
    "            if peak2<= 850:\n",
    "                a2 = 25000\n",
    "                w2 = 20\n",
    "            elif peak2 <= 900:\n",
    "                a2 = 25000\n",
    "                w2 = 15\n",
    "            else:\n",
    "                a2 = 25000\n",
    "                w2 = 10\n",
    "                \n",
    "            if peak3<= 850:\n",
    "                a3 = 25000\n",
    "                w3 = 20\n",
    "            elif peak3 <= 900:\n",
    "                a3 = 25000\n",
    "                w3 = 15\n",
    "            else:\n",
    "                a3 = 25000\n",
    "                w3 = 10                \n",
    "            \n",
    "            # Fit three peaks\n",
    "            gmodel = Model(gauss3)\n",
    "            result = gmodel.fit(y_data[:,i], x=x_data[:,0], a1 = a1,c1=c1,w1=w1,a2=a2,c2=c2,w2=w2,a3=a3,c3=c3,w3=w3)\n",
    "            y1 = gaussian(x_data[:,0],result.best_values['a1'],result.best_values['c1'],result.best_values['w1'])\n",
    "            y2 = gaussian(x_data[:,0],result.best_values['a2'],result.best_values['c2'],result.best_values['w2'])\n",
    "            y3 = gaussian(x_data[:,0],result.best_values['a3'],result.best_values['c3'],result.best_values['w3'])\n",
    "            new_dict = {'peak':3,'y':y_data[:,i].tolist(),'fit':result.best_fit.tolist(),'y1':y1.tolist(),\n",
    "                        'y2':y2.tolist(),'y3':y3.tolist(),\n",
    "                        'mu1':result.best_values['c1'],'mu2':result.best_values['c2'],\n",
    "                        'mu3':result.best_values['c3']}\n",
    "        peak_data[i] = new_dict\n",
    "    \n",
    "    \n",
    "    # At this point all the fitting is completed\n",
    "    # Write the data into a json file\n",
    "    with open('data.json', 'w') as outfile:\n",
    "        ujson.dump(peak_data, outfile)\n",
    "    print(f'Fitting and Writing into a file done')\n",
    "\n",
    "fit_and_write_json()"
   ]
  },
  {
   "cell_type": "markdown",
   "metadata": {},
   "source": [
    "With the fit data ready, the plotting is done via `plotly` to have interactive nature."
   ]
  },
  {
   "cell_type": "code",
   "execution_count": 7,
   "metadata": {
    "scrolled": false
   },
   "outputs": [
    {
     "data": {
      "application/vnd.jupyter.widget-view+json": {
       "model_id": "b52681d732b74bbebf28ff9abbbb0618",
       "version_major": 2,
       "version_minor": 0
      },
      "text/plain": [
       "VBox(children=(FigureWidget({\n",
       "    'data': [{'marker': {'color': [#a3a7e4, #a3a7e4, #a3a7e4, #a3a7e4, #a3a7e4,\n",
       "…"
      ]
     },
     "metadata": {},
     "output_type": "display_data"
    }
   ],
   "source": [
    "%matplotlib notebook\n",
    "# Make a grid of points from X and Y points\n",
    "# These X and Y point remain same across all sheets\n",
    "from itertools import product\n",
    "all_grid=[]\n",
    "for i,j in product(range(1,14),range(1,14)):\n",
    "    all_grid.append([i,j])\n",
    "\n",
    "grid_points = np.array(all_grid)\n",
    "\n",
    "# Plot on grid points\n",
    "xy_grid_plot = go.FigureWidget([go.Scatter(x=grid_points[:,0], y=grid_points[:,1], mode='markers')])\n",
    "xy_grid_plot.update_layout(yaxis_tickformat = 'd',xaxis_title=\"X index\", yaxis_title=\"Y index\",)\n",
    "\n",
    "\n",
    "# This code block gets markers of X and Y points\n",
    "scatter = xy_grid_plot.data[0]\n",
    "colors = ['#a3a7e4'] * len(all_grid)\n",
    "scatter.marker.color = colors\n",
    "scatter.marker.size = [10] * len(all_grid)\n",
    "xy_grid_plot.layout.hovermode = 'closest'\n",
    "\n",
    "with open('data.json') as json_file:\n",
    "    peak_data = ujson.load(json_file)\n",
    "\n",
    "# create our callback function\n",
    "def update_point(trace, points, selector):\n",
    "    \n",
    "    # Get Color and size array\n",
    "    c = list(scatter.marker.color)\n",
    "    s = list(scatter.marker.size)\n",
    "    \n",
    "    # This figure_count makes sure only Two figures are plotted at one time\n",
    "    figure_count = int(np.sum([1  for x in c if x=='#bae2be']))%3\n",
    "        \n",
    "    for i in points.point_inds:\n",
    "    # Here i corresponds to clicked index of marker. It should be within {0,168}\n",
    "        \n",
    "        # When a new graphs needs to be added\n",
    "        if c[i] == '#a3a7e4':\n",
    "            new_color = np.array(c)\n",
    "            new_color[i] = '#bae2be'\n",
    "            new_size = np.array(s)\n",
    "            new_size[i] = 20\n",
    "            \n",
    "        # When an old data needs to be removed. Marker is de-colorised but graph is not removed\n",
    "        else:\n",
    "            new_color = np.array(c)\n",
    "            new_color[i] = '#a3a7e4'\n",
    "            new_size = np.array(s)\n",
    "            new_size[i] = 10\n",
    "        \n",
    "        # Update clicked marker\n",
    "        with xy_grid_plot.batch_update():\n",
    "            scatter.marker.color = new_color\n",
    "            scatter.marker.size = new_size\n",
    "            \n",
    "        # Update graph corresponding to clicked index\n",
    "        with main_plot.batch_update(): \n",
    "            j = str(i)\n",
    "            x_ind = str(int(i/12))\n",
    "            y_ind = str(i%12)\n",
    "            #\n",
    "            if peak_data[j]['peak'] ==1:            \n",
    "                main_plot.data[5*figure_count+ 0].x = x_data[:,0]\n",
    "                main_plot.data[5*figure_count+ 0].y = peak_data[j]['y']\n",
    "                main_plot.data[5*figure_count+ 0].name = 'Data points X: ' + str(int(i/13) + 1 ) +', Y: ' + str(i%13 +1 )\n",
    "                main_plot.data[5*figure_count+ 1].x = x_data[:,0]\n",
    "                main_plot.data[5*figure_count+ 1].y = peak_data[j]['fit']\n",
    "                main_plot.data[5*figure_count+ 1].name = 'Fit points X: ' + str(int(i/13) +1 )+', Y: ' + str(i%13 +1 )\n",
    "                main_plot.data[5*figure_count+ 2].x = x_data[:,0]\n",
    "                main_plot.data[5*figure_count+ 2].y = peak_data[j]['y1']\n",
    "                main_plot.data[5*figure_count+ 2].name = ('Peak 1 for  X: ' + str(int(i/13) +1 ) +', Y: ' + str(i%13 +1 ) +\n",
    "                                                        '\\n mu1 = ' + f'{peak_data[j][\"mu1\"]:0.2f}' + ' eV')\n",
    "                main_plot.data[5*figure_count+ 3].x = [900.0]\n",
    "                main_plot.data[5*figure_count+ 3].y = [0.0]\n",
    "                main_plot.data[5*figure_count+ 3].name = 'No Peak'\n",
    "                main_plot.data[5*figure_count+ 4].x = [900.0]\n",
    "                main_plot.data[5*figure_count+ 4].y = [0.0]\n",
    "                main_plot.data[5*figure_count+ 4].name = 'No Peak'\n",
    "            elif peak_data[j]['peak'] ==2:\n",
    "                main_plot.data[5*figure_count+ 0].x = x_data[:,0]\n",
    "                main_plot.data[5*figure_count+ 0].y = peak_data[j]['y']\n",
    "                main_plot.data[5*figure_count+ 0].name = 'Data points X: ' + str(int(i/13) + 1 ) +', Y: ' + str(i%13 +1 )\n",
    "                main_plot.data[5*figure_count+ 1].x = x_data[:,0]\n",
    "                main_plot.data[5*figure_count+ 1].y = peak_data[j]['fit']\n",
    "                main_plot.data[5*figure_count+ 1].name = 'Fit points X: ' + str(int(i/13) +1 )+', Y: ' + str(i%13 +1 )\n",
    "                main_plot.data[5*figure_count+ 2].x = x_data[:,0]\n",
    "                main_plot.data[5*figure_count+ 2].y = peak_data[j]['y1']\n",
    "                main_plot.data[5*figure_count+ 2].name = ('Peak 1 for  X: ' + str(int(i/13) +1 ) +', Y: ' + str(i%13 +1 ) +\n",
    "                                                        '\\n mu1 = ' + f'{peak_data[j][\"mu1\"]:0.2f}'+ ' eV')\n",
    "                main_plot.data[5*figure_count+ 3].x = x_data\n",
    "                main_plot.data[5*figure_count+ 3].y = peak_data[j]['y2']\n",
    "                main_plot.data[5*figure_count+ 3].name = ('Peak 2 for  X: ' + str(int(i/13) +1 ) +', Y: ' + str(i%13 +1 ) +\n",
    "                                                        '\\n mu2 = ' + f'{peak_data[j][\"mu2\"]:0.2f}'+ ' eV')\n",
    "                main_plot.data[5*figure_count+ 4].x = [900.0]\n",
    "                main_plot.data[5*figure_count+ 4].y = [0.0]\n",
    "                main_plot.data[5*figure_count+ 4].name = 'No Peak'\n",
    "            else:\n",
    "                main_plot.data[5*figure_count+ 0].x = x_data[:,0]\n",
    "                main_plot.data[5*figure_count+ 0].y = peak_data[j]['y']\n",
    "                main_plot.data[5*figure_count+ 0].name = 'Data points X: ' + str(int(i/13) + 1 ) +', Y: ' + str(i%13 +1 )\n",
    "                main_plot.data[5*figure_count+ 1].x = x_data[:,0]\n",
    "                main_plot.data[5*figure_count+ 1].y = peak_data[j]['fit']\n",
    "                main_plot.data[5*figure_count+ 1].name = 'Fit points X: ' + str(int(i/13) +1 )+', Y: ' + str(i%13 +1 )\n",
    "                main_plot.data[5*figure_count+ 2].x = x_data[:,0]\n",
    "                main_plot.data[5*figure_count+ 2].y = peak_data[j]['y1']\n",
    "                main_plot.data[5*figure_count+ 2].name = ('Peak 1 for  X: ' + str(int(i/13) +1 ) +', Y: ' + str(i%13 +1 ) +\n",
    "                                                        '\\n mu1 = ' + f'{peak_data[j][\"mu1\"]:0.2f}'+ ' eV')\n",
    "                main_plot.data[5*figure_count+ 3].x = x_data[:,0]\n",
    "                main_plot.data[5*figure_count+ 3].y = peak_data[j]['y2']\n",
    "                main_plot.data[5*figure_count+ 3].name = ('Peak 2 for  X: ' + str(int(i/13) +1 ) +', Y: ' + str(i%13 +1 ) +\n",
    "                                                        '\\n mu2 = ' + f'{peak_data[j][\"mu2\"]:0.2f}'+ ' eV')\n",
    "                main_plot.data[5*figure_count+ 4].x = x_data[:,0]\n",
    "                main_plot.data[5*figure_count+ 4].y = peak_data[j]['y3']\n",
    "                main_plot.data[5*figure_count+ 4].name = ('Peak 3 for  X: ' + str(int(i/13) +1 ) +', Y: ' + str(i%13 +1 ) +\n",
    "                                                        '\\n mu3 = ' + f'{peak_data[j][\"mu3\"]:0.2f}'+ ' eV')\n",
    "            \n",
    "            \n",
    "            main_plot.layout = go.Layout(title=dict(text='Reading Spectra from ' + excel_file))\n",
    "\n",
    "                \n",
    "                \n",
    "scatter.on_click(update_point)\n",
    "\n",
    "# Initialize First graphs\n",
    "plot1 = go.Scatter(x=[900],y=[0],mode='markers',name='Data Points')\n",
    "plot2 = go.Scatter(x=[900],y=[0],name='Fit',opacity=1)\n",
    "plot3 = go.Scatter(x=[900],y=[0],name='Peak 1',fill='tozeroy',opacity=0.2,visible=\"legendonly\")\n",
    "plot4 = go.Scatter(x=[900],y=[0],name='Peak 2',fill='tozeroy',opacity=0.2,visible=\"legendonly\")\n",
    "plot5 = go.Scatter(x=[900],y=[0],name='Peak 3',fill='tozeroy',opacity=0.2,visible=\"legendonly\")\n",
    "\n",
    "# Initialize Second graphs\n",
    "plot6 = go.Scatter(x=[900],y=[0],mode='markers',name='Data Points')\n",
    "plot7 = go.Scatter(x=[900],y=[0],name='Fit',opacity=1)\n",
    "plot8 = go.Scatter(x=[900],y=[0],name='Peak 1',fill='tozeroy',opacity=0.2,visible=\"legendonly\")\n",
    "plot9 = go.Scatter(x=[900],y=[0],name='Peak 2',fill='tozeroy',opacity=0.2,visible=\"legendonly\")\n",
    "plot10 = go.Scatter(x=[900],y=[0],name='Peak 3',fill='tozeroy',opacity=0.2,visible=\"legendonly\")\n",
    "\n",
    "# # Initialize Third graphs\n",
    "# plot11 = go.Scatter(x=[900],y=[0],mode='markers',name='Data Points')\n",
    "# plot12 = go.Scatter(x=[900],y=[0],name='Fit',opacity=1)\n",
    "# plot13 = go.Scatter(x=[900],y=[0],name='Peak 1',fill='tozeroy',opacity=0.2,visible=\"legendonly\")\n",
    "# plot14 = go.Scatter(x=[900],y=[0],name='Peak 2',fill='tozeroy',opacity=0.2,visible=\"legendonly\")\n",
    "# plot15 = go.Scatter(x=[900],y=[0],name='Peak 3',fill='tozeroy',opacity=0.2,visible=\"legendonly\")\n",
    "\n",
    "main_plot = go.FigureWidget(data=[plot1,plot2,plot3,plot4,plot5,plot6,plot7,plot8,plot9,plot10],\n",
    "                    layout=go.Layout(title=dict(text='LEIS Fitting Spectrum')))\n",
    "\n",
    "main_plot .update_layout(yaxis_tickformat = 'd',xaxis_title=\"KE (eV)\", yaxis_title=\"Counts/sec\",)\n",
    "\n",
    "z = widgets.VBox([xy_grid_plot,main_plot])\n",
    "z"
   ]
  },
  {
   "cell_type": "markdown",
   "metadata": {},
   "source": [
    "The above interactive plot is able to show two clicked markers and their fitted lines from above grid. Clicks more than two are possible but the code will keep overwriting the previous graphs. The user is advised to remain cautious of this fact. Two graphs are chosen because more than two graphs makes the workspace messier and ugly to look at.\n",
    "\n",
    "The code can be used to plot upto two graphs and their fits and subsequently export them using the code cell below."
   ]
  },
  {
   "cell_type": "code",
   "execution_count": null,
   "metadata": {},
   "outputs": [],
   "source": [
    "main_plot.write_html(\"LEIS_fitting.html\",include_plotlyjs='cdn')"
   ]
  },
  {
   "cell_type": "markdown",
   "metadata": {},
   "source": [
    "Above code cell will create a standalone HTML file which will have embedded the two data points series in it and shared among people without the need for this notebook from the creator."
   ]
  },
  {
   "cell_type": "markdown",
   "metadata": {},
   "source": [
    "# Conclusion\n",
    "\n",
    "The final writing of the HTML file is a neat feature where the two embedded graphs can be shared without any external python/jupyter-notebook installation required by the reader.\n",
    "\n",
    "This project can easily be extended to fit the kind of experiment data as well. For future uses, [Dash](https://dash.plotly.com/) can be developed to preserve the click interactive feature."
   ]
  }
 ],
 "metadata": {
  "kernelspec": {
   "display_name": "Python 3",
   "language": "python",
   "name": "python3"
  },
  "language_info": {
   "codemirror_mode": {
    "name": "ipython",
    "version": 3
   },
   "file_extension": ".py",
   "mimetype": "text/x-python",
   "name": "python",
   "nbconvert_exporter": "python",
   "pygments_lexer": "ipython3",
   "version": "3.7.4"
  },
  "toc": {
   "base_numbering": 1,
   "nav_menu": {},
   "number_sections": false,
   "sideBar": true,
   "skip_h1_title": false,
   "title_cell": "Table of Contents",
   "title_sidebar": "Contents",
   "toc_cell": false,
   "toc_position": {
    "height": "calc(100% - 180px)",
    "left": "10px",
    "top": "150px",
    "width": "292.8px"
   },
   "toc_section_display": true,
   "toc_window_display": false
  },
  "varInspector": {
   "cols": {
    "lenName": 16,
    "lenType": 16,
    "lenVar": 40
   },
   "kernels_config": {
    "python": {
     "delete_cmd_postfix": "",
     "delete_cmd_prefix": "del ",
     "library": "var_list.py",
     "varRefreshCmd": "print(var_dic_list())"
    },
    "r": {
     "delete_cmd_postfix": ") ",
     "delete_cmd_prefix": "rm(",
     "library": "var_list.r",
     "varRefreshCmd": "cat(var_dic_list()) "
    }
   },
   "types_to_exclude": [
    "module",
    "function",
    "builtin_function_or_method",
    "instance",
    "_Feature"
   ],
   "window_display": false
  }
 },
 "nbformat": 4,
 "nbformat_minor": 4
}
