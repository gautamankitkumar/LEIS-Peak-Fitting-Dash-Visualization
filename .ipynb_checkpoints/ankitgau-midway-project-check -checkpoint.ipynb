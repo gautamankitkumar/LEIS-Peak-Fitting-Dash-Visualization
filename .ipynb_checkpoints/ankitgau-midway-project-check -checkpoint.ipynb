{
 "cells": [
  {
   "cell_type": "markdown",
   "metadata": {},
   "source": [
    "# Midway-Project-Check \n",
    "## Ankit Kumar Gautam \n",
    "## <u> Topic- LEIS Peak Fitting</u>"
   ]
  },
  {
   "cell_type": "markdown",
   "metadata": {},
   "source": [
    "# <div align=\"center\">Abstract</div>"
   ]
  },
  {
   "cell_type": "markdown",
   "metadata": {},
   "source": [
    "## Motivation\n",
    "\n",
    "A researcher working in Prof. Gellman's group is working on high-throughput experiments. Currently for data analysis he uses commercial software for LEIS spectrum peak fitting which is slow and hinders his research efforts. Also, the large amount of data generated from such experiments makes data organisation a difficult task. A need for a faster analysis is present. An added convenience for his lab colleagues would be having the possibility of viewing generated graphs/results later without re-running the entire code. \n",
    "\n",
    "Aim: Essentially, we should be able to pick a point within the 13x13 grid and get its data and its peak fitted on a plot.\n",
    "\n",
    "\n",
    "## LEIS experiments\n",
    "LEIS experiments aim to determine surface composition by measuring the energy from ions that are scattered from the surface. For heterogeneous catalysis, surface composition identification becomes an essential because reactions take place on surfaces and surface characterization is important for design of industrial catalysts. [Ref 1](https://doi.org/10.1016/j.cattod.2008.10.012)\n"
   ]
  },
  {
   "cell_type": "markdown",
   "metadata": {},
   "source": [
    "# <div align=\"center\">Methods</div>"
   ]
  },
  {
   "cell_type": "markdown",
   "metadata": {},
   "source": [
    "## Notebook Outline\n",
    "The above task is completed in parts. Narrative text around the code cells are present to make the notebook more descriptive. The overall structure of this notebook is described as follows:\n",
    "\n",
    "1. Define Excel file to read\n",
    "2. Define relevant functions such as reading data from excel file and Fitting function\n",
    "3. Plot the picking matrix and final graph\n",
    "\n",
    "---\n",
    "\n",
    "The code starts with importing relevant libraries."
   ]
  },
  {
   "cell_type": "markdown",
   "metadata": {},
   "source": [
    "## Reading Data"
   ]
  },
  {
   "cell_type": "markdown",
   "metadata": {},
   "source": [
    "### Data structure\n",
    "\n",
    "The data comes from 13x13 grid point sources, each giving out 481 KE energies. The grid points are conveniently labeled as 13 X points for each 13 Y points. The following screenshot aims to give a small glimpse of the data file."
   ]
  },
  {
   "cell_type": "markdown",
   "metadata": {},
   "source": [
    "<img src=\"http://drive.google.com/uc?export=view&id=1Cm5kLtYoIY5HCH4eNIKI1kgtyTwafpYJ\" alt=\"drawing\" width=\"600\"/>"
   ]
  },
  {
   "cell_type": "markdown",
   "metadata": {},
   "source": [
    "To read the excel file, the following code cells are developed.\n",
    "\n",
    "The following cell declares the name of the file used for current analysis. Note this is the only input required from user."
   ]
  },
  {
   "cell_type": "code",
   "execution_count": 1,
   "metadata": {},
   "outputs": [],
   "source": [
    "excel_file = '600 K LEIS 2nd round 27.5.xlsx'"
   ]
  },
  {
   "cell_type": "markdown",
   "metadata": {},
   "source": [
    "Download the sample file from following link https://cmu.box.com/s/4j8b6q830qtpdjb3bbxlo214cehsje9r and keep in the same directory as this notebook."
   ]
  },
  {
   "cell_type": "markdown",
   "metadata": {},
   "source": [
    "### Importing libraries"
   ]
  },
  {
   "cell_type": "code",
   "execution_count": 2,
   "metadata": {},
   "outputs": [],
   "source": [
    "import numpy as np\n",
    "import pandas as pd\n",
    "import matplotlib\n",
    "import matplotlib.pyplot as plt\n",
    "%matplotlib notebook\n",
    "\n",
    "# Used to read excel file\n",
    "from openpyxl import load_workbook\n",
    "\n",
    "# Used for non-linear fitting\n",
    "from lmfit import Model\n",
    "\n",
    "# Used for interactive graph\n",
    "import plotly.graph_objects as go\n",
    "from ipywidgets import widgets"
   ]
  },
  {
   "cell_type": "markdown",
   "metadata": {},
   "source": [
    "### `pandas` to read excel file"
   ]
  },
  {
   "cell_type": "code",
   "execution_count": 3,
   "metadata": {},
   "outputs": [],
   "source": [
    "def readdata(filename,x,y,flag=0):\n",
    "    \n",
    "    \"\"\" \n",
    "    This function takes in the x and y point data and returns the data array\n",
    "    \n",
    "    filename: string, Excel file to be read\n",
    "        flag=0, denotes request for KE values (x-axis data)\n",
    "        flag=1 denotes request for counts data (y-axis data)\n",
    "        \n",
    "    x: string, x value of the position\n",
    "    y: string: y value of the position\n",
    "    \"\"\"\n",
    "    wb = load_workbook(filename)\n",
    "    ws = wb[x]\n",
    "    \n",
    "    # This position of metadata doesn't change its relative position from sheet-to-sheet\n",
    "    n_energy = ws['D2'].value\n",
    "    n_iter = ws['D5'].value\n",
    "    Rows_to_Skip = 15\n",
    "    \n",
    "    # Rename columns\n",
    "    column_names = [str(x) for x in range(0,n_iter)]\n",
    "    column_names.insert(0,'nan')\n",
    "    column_names.insert(0,'KE')\n",
    "    \n",
    "    # Read data using pandas\n",
    "    df_data = pd.read_excel(io = excel_file,\n",
    "                       sheet_name=x,\n",
    "                       skiprows = Rows_to_Skip,\n",
    "                       names = column_names,\n",
    "                       index_col='KE'\n",
    "                      )\n",
    "\n",
    "    df_data.drop(columns=df_data.columns[0],inplace=True)\n",
    "    if flag==0:\n",
    "        return np.array(df_data.index)\n",
    "    elif flag==1:\n",
    "        return np.array(df_data[y])        "
   ]
  },
  {
   "cell_type": "markdown",
   "metadata": {},
   "source": [
    "## Peak Fitting\n",
    "\n",
    "\n",
    "LEIS spectrum can be fitted using functions such as following \n",
    "\\begin{align*}\n",
    "Gaussian &= \\frac{A}{\\sqrt{2}\\pi \\sigma} exp\\Big({-\\frac{(x-\\mu)^2}{2\\sigma^2}}\\Big) \\\\\n",
    "Lorentzian & = \\frac{A}{\\pi} \\frac{\\Gamma}{(x-x_0)^2 + (\\Gamma /2 )^2}\\\\\n",
    "\\end{align*}\n",
    "\n",
    "Or Voigt, which is essentially a combination of these two. Here A represent amplitude of the spectrum, $\\sigma$ or $\\Gamma$ capture width, $x_0$ or $\\mu$ represent peak position. The ultimate aim is to get out $\\mu$ or $x_0$ from the data for curves which represent the data accurately.\n",
    "\n",
    "For the purpose of peak fitting here, sum of two gaussian functions are used here. To claim robust peak fitting, asymmetric peak fitting and fitting 3 peaks is yet to be achieved."
   ]
  },
  {
   "cell_type": "code",
   "execution_count": 4,
   "metadata": {},
   "outputs": [],
   "source": [
    "# Reference: https://lmfit.github.io/lmfit-py/model.html\n",
    "\n",
    "def fit_data(x,y):\n",
    "    \"\"\" This function returns fitted values of y for given x and y data\n",
    "    x: array of float data\n",
    "    y: array of float data\n",
    "    \"\"\"\n",
    "    \n",
    "    def gaussian(x, amp, cen, width):\n",
    "        \"\"\"1-d gaussian: gaussian(x, amp, cen, width)\n",
    "        x: independent variable\n",
    "        amp: amplitude/height of the curve\n",
    "        cen: mean or peak position\n",
    "        width: standard deviation/ spread of the curve\n",
    "        \"\"\"\n",
    "        \n",
    "    # TODO: Implement Robust peak fitting \n",
    "    # Or asymmetric peak fitting\n",
    "    #\n",
    "    #     if x< c1:\n",
    "    #         return gauss\n",
    "    #     else:\n",
    "    #         return gauu+lorentz\n",
    "    \n",
    "        return (amp / (np.sqrt(2*np.pi) * width)) * np.exp(-(x-cen)**2 / (2*width**2))\n",
    "    \n",
    "    def gauss2(x,a1,c1,w1,a2,c2,w2):\n",
    "        \"\"\" Add the two gaussian peaks \"\"\"\n",
    "        return gaussian(x,a1,c1,w1)+gaussian(x,a2,c2,w2)\n",
    "\n",
    "    gmodel = Model(gauss2)\n",
    "    result = gmodel.fit(y, x=x, a1 = 3e5,a2 = 8e4,c1=840,c2=900,w1=10,w2=10)\n",
    "    y1 = gaussian(x,result.best_values['a1'],result.best_values['c1'],result.best_values['w1'])\n",
    "    y2 = gaussian(x,result.best_values['a2'],result.best_values['c2'],result.best_values['w2'])\n",
    "    \n",
    "    # Returns y_fit,        first curve, second curve\n",
    "    return (result.best_fit,   y1,          y2)"
   ]
  },
  {
   "cell_type": "markdown",
   "metadata": {},
   "source": [
    "# Interactive plotting\n",
    "\n",
    "### Phase - 1 \n",
    "Initially I had started out using dropdown menus to select X and Y coordinate. (Note the  x and y go from 0-12 which make 13 values each)"
   ]
  },
  {
   "cell_type": "code",
   "execution_count": 5,
   "metadata": {
    "scrolled": false
   },
   "outputs": [
    {
     "data": {
      "application/vnd.jupyter.widget-view+json": {
       "model_id": "db61f2ac684a4686afc1ac3c78108f83",
       "version_major": 2,
       "version_minor": 0
      },
      "text/plain": [
       "VBox(children=(HBox(children=(Dropdown(description='X coordinate:', index=1, options=('0', '1', '2', '3', '4',…"
      ]
     },
     "metadata": {},
     "output_type": "display_data"
    }
   ],
   "source": [
    "# Define a dropdown menu to select x coodinate of data\n",
    "x_box = widgets.Dropdown(\n",
    "    description='X coordinate:',\n",
    "    value='1',\n",
    "    options=[str(x) for x in range(13)]\n",
    ")\n",
    "\n",
    "y_box = widgets.Dropdown(\n",
    "    description='Y coordinate:   ',\n",
    "    value='1',\n",
    "    options=[str(x) for x in range(13)]\n",
    ")\n",
    "\n",
    "# Make a widget container consisting of x_box and y_box dropdown menus\n",
    "container = widgets.HBox(children=[x_box,y_box])\n",
    "\n",
    "\n",
    "def response(change):\n",
    "    \"\"\" This function reads the change occuring on the dropdown menus\n",
    "    and produce the relevant change in main plot canvas\n",
    "    \"\"\"\n",
    "    \n",
    "    # x_box.value returns current value selected from x_box\n",
    "    \n",
    "    # This line returns KE values\n",
    "    x_data = readdata(excel_file,x_box.value,y_box.value)\n",
    "    \n",
    "    # This line returns Counts values because of flag=1 at end\n",
    "    y_data = readdata(excel_file,x_box.value,y_box.value,flag=1)\n",
    "    \n",
    "    # Get fitted peaks from fit_data function\n",
    "    y_fit,y1,y2 = fit_data(x_data,y_data)\n",
    "    \n",
    "    with g.batch_update():\n",
    "        # Update relevant graphs on canvas\n",
    "        g.data[0].x = x_data\n",
    "        g.data[0].y = y_data\n",
    "        g.data[1].x = x_data\n",
    "        g.data[1].y = y_fit\n",
    "        g.data[2].x = x_data\n",
    "        g.data[2].y = y1\n",
    "        g.data[3].x = x_data\n",
    "        g.data[3].y = y2\n",
    "        g.layout = go.Layout(title=dict(text='LEIS for X:' + x_box.value+ ', Y:'+y_box.value))\n",
    "\n",
    "        \n",
    "# Assign an empty figure widget with Four graphs: Data points, Fit, Peak-1 only, Peak-2 only\n",
    "plot1 = go.Scatter(x=[0],y=[0],mode='markers',name='Data Points')\n",
    "plot2 = go.Scatter(x=[0],y=[0],name='Fit',opacity=1)\n",
    "plot3 = go.Scatter(x=[0],y=[0],name='Peak 1',fill='tozeroy',opacity=0.2)\n",
    "plot4 = go.Scatter(x=[0],y=[0],name='Peak 2',fill='tozeroy',opacity=0.2)\n",
    "\n",
    "# Group all the indiviudal plots\n",
    "g = go.FigureWidget(data=[plot1,plot2,plot3,plot4],layout=go.Layout(title=dict(text='LEIS Fitting Spectrum')))\n",
    "\n",
    "# Update x-axis and y-axis labels\n",
    "g.update_layout(yaxis_tickformat = 'd',xaxis_title=\"KE (eV)\", yaxis_title=\"Counts/sec\",)\n",
    "\n",
    "# Call function \"response\" when some change is recorded on dropdown menus\n",
    "x_box.observe(response, names=\"value\")\n",
    "y_box.observe(response, names=\"value\")\n",
    "\n",
    "widgets.VBox([container,g])"
   ]
  },
  {
   "cell_type": "markdown",
   "metadata": {},
   "source": [
    "The above interactive graph should allow a user to change x-coodinate or y-coordinate and see its graph and its fit on the plot below\n",
    "\n",
    "---"
   ]
  },
  {
   "cell_type": "markdown",
   "metadata": {},
   "source": [
    "### Phase-2 \n",
    "After communicating with the researcher, the idea of grid points to select from like our course homework appeared more interesting. Thus that version is applied here."
   ]
  },
  {
   "cell_type": "code",
   "execution_count": 6,
   "metadata": {
    "scrolled": false
   },
   "outputs": [
    {
     "data": {
      "application/vnd.jupyter.widget-view+json": {
       "model_id": "5bf6e734580a47d185457eb1b81ad29c",
       "version_major": 2,
       "version_minor": 0
      },
      "text/plain": [
       "VBox(children=(FigureWidget({\n",
       "    'data': [{'marker': {'color': [#a3a7e4, #a3a7e4, #a3a7e4, #a3a7e4, #a3a7e4,\n",
       "…"
      ]
     },
     "metadata": {},
     "output_type": "display_data"
    }
   ],
   "source": [
    "# Make a grid of points from X and Y points\n",
    "# These X and Y point remain same across all sheets\n",
    "\n",
    "from itertools import product\n",
    "all_grid=[]\n",
    "for i,j in product(range(1,13),range(1,13)):\n",
    "    all_grid.append([i,j])\n",
    "\n",
    "grid_points = np.array(all_grid)\n",
    "\n",
    "# Plot on grid points\n",
    "xy_grid_plot = go.FigureWidget([go.Scatter(x=grid_points[:,0], y=grid_points[:,1], mode='markers')])\n",
    "xy_grid_plot.update_layout(yaxis_tickformat = 'd',xaxis_title=\"X index\", yaxis_title=\"Y index\",)\n",
    "\n",
    "\n",
    "# This code block gets markers of X and Y points\n",
    "scatter = xy_grid_plot.data[0]\n",
    "colors = ['#a3a7e4'] * len(all_grid)\n",
    "scatter.marker.color = colors\n",
    "scatter.marker.size = [10] * len(all_grid)\n",
    "xy_grid_plot.layout.hovermode = 'closest'\n",
    "\n",
    "\n",
    "# create our callback function\n",
    "def update_point(trace, points, selector):\n",
    "    \n",
    "    # Get Color and size array\n",
    "    c = list(scatter.marker.color)\n",
    "    s = list(scatter.marker.size)\n",
    "    \n",
    "    # This figure_count makes sure only Two figures are plotted at one time\n",
    "    figure_count = int(np.sum([1  for x in c if x=='#bae2be']))\n",
    "    if figure_count >=2:\n",
    "        figure_count = 0\n",
    "    \n",
    "    for i in points.point_inds:\n",
    "        \n",
    "        # When a new graphs needs to be added\n",
    "        if c[i] == '#a3a7e4':\n",
    "            new_color = np.array(c)\n",
    "            new_color[i] = '#bae2be'\n",
    "            new_size = np.array(s)\n",
    "            new_size[i] = 20\n",
    "            \n",
    "        # When an old data needs to be removed. Marker is de-colorised but graph is not removed\n",
    "        else:\n",
    "            new_color = np.array(c)\n",
    "            new_color[i] = '#a3a7e4'\n",
    "            new_size = np.array(s)\n",
    "            new_size[i] = 10\n",
    "        \n",
    "        # Update clicked marker\n",
    "        with xy_grid_plot.batch_update():\n",
    "            scatter.marker.color = new_color\n",
    "            scatter.marker.size = new_size\n",
    "        \n",
    "        # Update graph corresponding to clicked indices\n",
    "        with g.batch_update():\n",
    "  \n",
    "            x_ind = str(int(i/12))\n",
    "            y_ind = str(i%12)\n",
    "            x_data = readdata(excel_file,x_ind,y_ind)\n",
    "            y_data = readdata(excel_file,x_ind,y_ind,1)\n",
    "            y_fit,y1,y2 = fit_data(x_data,y_data)\n",
    "            \n",
    "            main_plot.data[4*figure_count+ 0].x = x_data\n",
    "            main_plot.data[4*figure_count+ 0].y = y_data\n",
    "            main_plot.data[4*figure_count+ 0].name = 'Data points X: ' + str(int(i/12) + 1 ) +', Y: ' + str(i%12 +1 )\n",
    "            main_plot.data[4*figure_count+ 1].x = x_data\n",
    "            main_plot.data[4*figure_count+ 1].y = y_fit\n",
    "            main_plot.data[4*figure_count+ 1].name = 'Fit points X: ' + str(int(i/12) +1 )+', Y: ' + str(i%12 +1 )\n",
    "            main_plot.data[4*figure_count+ 2].x = x_data\n",
    "            main_plot.data[4*figure_count+ 2].y = y1\n",
    "            main_plot.data[4*figure_count+ 2].name = 'Peak 1 for  X: ' + str(int(i/12) +1 ) +', Y: ' + str(i%12 +1 )\n",
    "            main_plot.data[4*figure_count+ 3].x = x_data\n",
    "            main_plot.data[4*figure_count+ 3].y = y2\n",
    "            main_plot.data[4*figure_count+ 3].name = 'Peak 2 for  X: ' + str(int(i/12) +1 ) +', Y: ' + str(i%12 +1 )\n",
    "            \n",
    "            figure_count =+ 1\n",
    "            \n",
    "            main_plot.layout = go.Layout(title=dict(text='LEIS Spectrum'))\n",
    "\n",
    "                \n",
    "                \n",
    "scatter.on_click(update_point)\n",
    "\n",
    "# Initialize peak-1 graphs\n",
    "plot1 = go.Scatter(x=[900],y=[0],mode='markers',name='Data Points')\n",
    "plot2 = go.Scatter(x=[900],y=[0],name='Fit',opacity=1)\n",
    "plot3 = go.Scatter(x=[900],y=[0],name='Peak 1',fill='tozeroy',opacity=0.2,visible=\"legendonly\")\n",
    "plot4 = go.Scatter(x=[900],y=[0],name='Peak 2',fill='tozeroy',opacity=0.2,visible=\"legendonly\")\n",
    "\n",
    "# Initialize peak-2 graphs\n",
    "\n",
    "plot5 = go.Scatter(x=[900],y=[0],mode='markers',name='Data Points')\n",
    "plot6 = go.Scatter(x=[900],y=[0],name='Fit',opacity=1)\n",
    "plot7 = go.Scatter(x=[900],y=[0],name='Peak 1',fill='tozeroy',opacity=0.2,visible=\"legendonly\")\n",
    "plot8 = go.Scatter(x=[900],y=[0],name='Peak 2',fill='tozeroy',opacity=0.2,visible=\"legendonly\")\n",
    "\n",
    "main_plot = go.FigureWidget(data=[plot1,plot2,plot3,plot4,plot5,plot6,plot7,plot8],\n",
    "                    layout=go.Layout(title=dict(text='LEIS Fitting Spectrum')))\n",
    "\n",
    "main_plot .update_layout(yaxis_tickformat = 'd',xaxis_title=\"KE (eV)\", yaxis_title=\"Counts/sec\",)\n",
    "\n",
    "z = widgets.VBox([xy_grid_plot,main_plot])\n",
    "z"
   ]
  },
  {
   "cell_type": "markdown",
   "metadata": {},
   "source": [
    "The above interactive plot is able to show two clicked markers and their fitted lines from above grid. Clicks more than two are possible but the code will keep overwriting the previous graphs. The user is advised to remain cautious of this fact. Two graphs are chosen because more than two graphs makes the workspace messier and ugly to look at.\n",
    "\n",
    "The code can be used to plot upto two graphs and their fits and subsequently export them using the code cell below."
   ]
  },
  {
   "cell_type": "code",
   "execution_count": 7,
   "metadata": {},
   "outputs": [],
   "source": [
    "main_plot.write_html(\"file.html\")"
   ]
  },
  {
   "cell_type": "markdown",
   "metadata": {},
   "source": [
    "Above code cell will create a standalone HTML file which will have embedded the two data points series in it and shared among people without the need for this notebook from the creator."
   ]
  },
  {
   "cell_type": "markdown",
   "metadata": {},
   "source": [
    "## Pending Tasks\n",
    "\n",
    "In my latest communication with the researcher, the following tasks were identified.\n",
    "    \n",
    "1. Change from X and Y dropdown to clickable grid. -Done\n",
    "    \n",
    "2. Multiple graphs to be displayed -Done\n",
    "\n",
    "3. Currently the code performs active fitting i.e. fitting after the click. This has been suggested to fit onto a data file and then read fit data from read file. This task is fairly manageable. This will be completed within project deadline.\n",
    "\n",
    "4. Improve fitting by applying constraints on the parameters. Completion of this task remains a bit uncertain. Although the function/structure is present, the mathematical details can be modified even after the course project too."
   ]
  }
 ],
 "metadata": {
  "kernelspec": {
   "display_name": "Python 3",
   "language": "python",
   "name": "python3"
  },
  "language_info": {
   "codemirror_mode": {
    "name": "ipython",
    "version": 3
   },
   "file_extension": ".py",
   "mimetype": "text/x-python",
   "name": "python",
   "nbconvert_exporter": "python",
   "pygments_lexer": "ipython3",
   "version": "3.7.7"
  },
  "toc": {
   "base_numbering": 1,
   "nav_menu": {},
   "number_sections": false,
   "sideBar": true,
   "skip_h1_title": false,
   "title_cell": "Table of Contents",
   "title_sidebar": "Contents",
   "toc_cell": false,
   "toc_position": {
    "height": "calc(100% - 180px)",
    "left": "10px",
    "top": "150px",
    "width": "292.8px"
   },
   "toc_section_display": true,
   "toc_window_display": false
  },
  "varInspector": {
   "cols": {
    "lenName": 16,
    "lenType": 16,
    "lenVar": 40
   },
   "kernels_config": {
    "python": {
     "delete_cmd_postfix": "",
     "delete_cmd_prefix": "del ",
     "library": "var_list.py",
     "varRefreshCmd": "print(var_dic_list())"
    },
    "r": {
     "delete_cmd_postfix": ") ",
     "delete_cmd_prefix": "rm(",
     "library": "var_list.r",
     "varRefreshCmd": "cat(var_dic_list()) "
    }
   },
   "types_to_exclude": [
    "module",
    "function",
    "builtin_function_or_method",
    "instance",
    "_Feature"
   ],
   "window_display": false
  }
 },
 "nbformat": 4,
 "nbformat_minor": 4
}
