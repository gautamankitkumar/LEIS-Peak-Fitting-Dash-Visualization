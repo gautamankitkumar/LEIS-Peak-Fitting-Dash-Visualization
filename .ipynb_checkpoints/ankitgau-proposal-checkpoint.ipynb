{
 "cells": [
  {
   "cell_type": "markdown",
   "metadata": {},
   "source": [
    "# Project Proposal: 06-681\n",
    "Ankit Kumar Gautam (ankitgau)\n",
    "\n",
    "## <u>Topic: Data handling and analysis from high-throughput experiment - LEIS Peak fitting</u>"
   ]
  },
  {
   "cell_type": "markdown",
   "metadata": {},
   "source": [
    "## Motivation\n",
    "A researcher working in Prof. Gellman's group is working on high-throughput experiments. Currently for data analysis he uses commercial software for LEIS spectrum peak fitting which is slow and hinders his research efforts. Also, the large amount of data generated from such experiments makes data organisation a difficult task. I plan to develop a data analysis tool through python and visualize the generated results through plotly which will allow him to focus more on his research. An added convenience for his lab colleagues would be having the possibility of viewing generated graphs/results later without re-running the entire code. "
   ]
  },
  {
   "cell_type": "markdown",
   "metadata": {},
   "source": [
    "## Source of data\n",
    "The researcher has agreed to share his data for my project. He has access to more data from multiple runs of the experiment conducted in the past."
   ]
  },
  {
   "cell_type": "markdown",
   "metadata": {},
   "source": [
    "## Data analysis\n",
    "1. Attached below is a set of LEIS spectrum collected from a sample. Current peak fitting method (Gaussian+Lorentzian) via the software is slow and cannot export results in an efficient way. Good fitting requires being able to separate overlapping peaks. I plan to understand underlying mathematics for peak fitting so that this can done in python with ease. This may involve some element of machine learning if the need arises.\n",
    "\n",
    "<img src=\"http://drive.google.com/uc?export=view&id=1v8XyIg573W5dAOgozVB33b1T66_eBGQ8\" alt=\"drawing\" width=\"400\"/>\n",
    "\n",
    "2. High-throughputs experiments generate large amounts in excel files which can be handled efficiently through `pandas` in python. Visualization tools like `plotly` help in displaying the results in clear and interactive manner. Calculations done in python can also be written on excel file again if needed.\n",
    "\n",
    "3. For offline interactive nature of graphs exporting jupyter-notebook to html or running [`dash`](https://plotly.com/python/) on a PC can generate interactive graphs such as seen here:[Link to Plotly interactive GIF](https://cloud.githubusercontent.com/assets/12302455/16637308/4e476280-43ac-11e6-9fd3-ada2c9506ee1.gif) "
   ]
  },
  {
   "cell_type": "markdown",
   "metadata": {},
   "source": [
    "## Expected outcomes\n",
    "1. Python script/notebook which reads in excel file and carries out calculations required for peak fitting\n",
    "2. Conersion of generated results in HTML or a single python code which can be executed on a terminal to launch a HTML page"
   ]
  },
  {
   "cell_type": "markdown",
   "metadata": {},
   "source": [
    "## Timeline\n",
    "\n",
    "I expect that the understanding the underlying calculations will take most of the project. Having some experience with Plotly like JS based charts, the data export should not be time consuming\n",
    "\n",
    "Task | Time required | Deadline\n",
    ":-:|:-:|:-:\n",
    "Peak fitting calculations | 2 weeks | 15 April\n",
    "Method of exporting data| 1 week | 20 April"
   ]
  }
 ],
 "metadata": {
  "kernelspec": {
   "display_name": "Python 3",
   "language": "python",
   "name": "python3"
  },
  "language_info": {
   "codemirror_mode": {
    "name": "ipython",
    "version": 3
   },
   "file_extension": ".py",
   "mimetype": "text/x-python",
   "name": "python",
   "nbconvert_exporter": "python",
   "pygments_lexer": "ipython3",
   "version": "3.7.4"
  },
  "toc": {
   "base_numbering": 1,
   "nav_menu": {},
   "number_sections": false,
   "sideBar": true,
   "skip_h1_title": false,
   "title_cell": "Table of Contents",
   "title_sidebar": "Contents",
   "toc_cell": false,
   "toc_position": {},
   "toc_section_display": true,
   "toc_window_display": false
  },
  "varInspector": {
   "cols": {
    "lenName": 16,
    "lenType": 16,
    "lenVar": 40
   },
   "kernels_config": {
    "python": {
     "delete_cmd_postfix": "",
     "delete_cmd_prefix": "del ",
     "library": "var_list.py",
     "varRefreshCmd": "print(var_dic_list())"
    },
    "r": {
     "delete_cmd_postfix": ") ",
     "delete_cmd_prefix": "rm(",
     "library": "var_list.r",
     "varRefreshCmd": "cat(var_dic_list()) "
    }
   },
   "types_to_exclude": [
    "module",
    "function",
    "builtin_function_or_method",
    "instance",
    "_Feature"
   ],
   "window_display": false
  }
 },
 "nbformat": 4,
 "nbformat_minor": 2
}
